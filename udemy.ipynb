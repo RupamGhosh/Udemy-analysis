{
 "cells": [
  {
   "cell_type": "markdown",
   "id": "f40d5846",
   "metadata": {
    "papermill": {
     "duration": 0.008081,
     "end_time": "2023-01-10T19:02:49.387477",
     "exception": false,
     "start_time": "2023-01-10T19:02:49.379396",
     "status": "completed"
    },
    "tags": []
   },
   "source": [
    "# Import Libraries :"
   ]
  },
  {
   "cell_type": "code",
   "execution_count": 2,
   "id": "a2f8e00b",
   "metadata": {
    "execution": {
     "iopub.execute_input": "2023-01-10T19:02:49.406225Z",
     "iopub.status.busy": "2023-01-10T19:02:49.405778Z",
     "iopub.status.idle": "2023-01-10T19:02:50.712003Z",
     "shell.execute_reply": "2023-01-10T19:02:50.710512Z"
    },
    "papermill": {
     "duration": 1.318826,
     "end_time": "2023-01-10T19:02:50.714762",
     "exception": false,
     "start_time": "2023-01-10T19:02:49.395936",
     "status": "completed"
    },
    "tags": []
   },
   "outputs": [],
   "source": [
    "import pandas as pd\n",
    "import matplotlib.pyplot as plt\n",
    "import seaborn as sns"
   ]
  },
  {
   "cell_type": "markdown",
   "id": "d08e034c",
   "metadata": {
    "papermill": {
     "duration": 0.008036,
     "end_time": "2023-01-10T19:02:50.731759",
     "exception": false,
     "start_time": "2023-01-10T19:02:50.723723",
     "status": "completed"
    },
    "tags": []
   },
   "source": [
    "## Read Data"
   ]
  },
  {
   "cell_type": "code",
   "execution_count": null,
   "id": "2e063a03",
   "metadata": {
    "execution": {
     "iopub.execute_input": "2023-01-10T19:02:50.751528Z",
     "iopub.status.busy": "2023-01-10T19:02:50.750675Z",
     "iopub.status.idle": "2023-01-10T19:02:50.807146Z",
     "shell.execute_reply": "2023-01-10T19:02:50.805998Z"
    },
    "papermill": {
     "duration": 0.069592,
     "end_time": "2023-01-10T19:02:50.809797",
     "exception": false,
     "start_time": "2023-01-10T19:02:50.740205",
     "status": "completed"
    },
    "tags": []
   },
   "outputs": [],
   "source": [
    "df=pd.read_csv('udemy_courses.csv')"
   ]
  },
  {
   "cell_type": "markdown",
   "id": "b4acf681",
   "metadata": {
    "papermill": {
     "duration": 0.008976,
     "end_time": "2023-01-10T19:02:50.831032",
     "exception": false,
     "start_time": "2023-01-10T19:02:50.822056",
     "status": "completed"
    },
    "tags": []
   },
   "source": [
    "#### Git some information about the data"
   ]
  },
  {
   "cell_type": "code",
   "execution_count": 4,
   "id": "8c4b5098",
   "metadata": {
    "execution": {
     "iopub.execute_input": "2023-01-10T19:02:50.850768Z",
     "iopub.status.busy": "2023-01-10T19:02:50.849927Z",
     "iopub.status.idle": "2023-01-10T19:02:50.876511Z",
     "shell.execute_reply": "2023-01-10T19:02:50.875419Z"
    },
    "papermill": {
     "duration": 0.039084,
     "end_time": "2023-01-10T19:02:50.878855",
     "exception": false,
     "start_time": "2023-01-10T19:02:50.839771",
     "status": "completed"
    },
    "tags": []
   },
   "outputs": [
    {
     "data": {
      "text/html": [
       "<div>\n",
       "<style scoped>\n",
       "    .dataframe tbody tr th:only-of-type {\n",
       "        vertical-align: middle;\n",
       "    }\n",
       "\n",
       "    .dataframe tbody tr th {\n",
       "        vertical-align: top;\n",
       "    }\n",
       "\n",
       "    .dataframe thead th {\n",
       "        text-align: right;\n",
       "    }\n",
       "</style>\n",
       "<table border=\"1\" class=\"dataframe\">\n",
       "  <thead>\n",
       "    <tr style=\"text-align: right;\">\n",
       "      <th></th>\n",
       "      <th>course_id</th>\n",
       "      <th>course_title</th>\n",
       "      <th>url</th>\n",
       "      <th>is_paid</th>\n",
       "      <th>price</th>\n",
       "      <th>num_subscribers</th>\n",
       "      <th>num_reviews</th>\n",
       "      <th>num_lectures</th>\n",
       "      <th>level</th>\n",
       "      <th>content_duration</th>\n",
       "      <th>published_timestamp</th>\n",
       "      <th>subject</th>\n",
       "    </tr>\n",
       "  </thead>\n",
       "  <tbody>\n",
       "    <tr>\n",
       "      <th>0</th>\n",
       "      <td>1070968</td>\n",
       "      <td>Ultimate Investment Banking Course</td>\n",
       "      <td>https://www.udemy.com/ultimate-investment-bank...</td>\n",
       "      <td>True</td>\n",
       "      <td>200</td>\n",
       "      <td>2147</td>\n",
       "      <td>23</td>\n",
       "      <td>51</td>\n",
       "      <td>All Levels</td>\n",
       "      <td>1.5</td>\n",
       "      <td>2017-01-18T20:58:58Z</td>\n",
       "      <td>Business Finance</td>\n",
       "    </tr>\n",
       "    <tr>\n",
       "      <th>1</th>\n",
       "      <td>1113822</td>\n",
       "      <td>Complete GST Course &amp; Certification - Grow You...</td>\n",
       "      <td>https://www.udemy.com/goods-and-services-tax/</td>\n",
       "      <td>True</td>\n",
       "      <td>75</td>\n",
       "      <td>2792</td>\n",
       "      <td>923</td>\n",
       "      <td>274</td>\n",
       "      <td>All Levels</td>\n",
       "      <td>39.0</td>\n",
       "      <td>2017-03-09T16:34:20Z</td>\n",
       "      <td>Business Finance</td>\n",
       "    </tr>\n",
       "    <tr>\n",
       "      <th>2</th>\n",
       "      <td>1006314</td>\n",
       "      <td>Financial Modeling for Business Analysts and C...</td>\n",
       "      <td>https://www.udemy.com/financial-modeling-for-b...</td>\n",
       "      <td>True</td>\n",
       "      <td>45</td>\n",
       "      <td>2174</td>\n",
       "      <td>74</td>\n",
       "      <td>51</td>\n",
       "      <td>Intermediate Level</td>\n",
       "      <td>2.5</td>\n",
       "      <td>2016-12-19T19:26:30Z</td>\n",
       "      <td>Business Finance</td>\n",
       "    </tr>\n",
       "    <tr>\n",
       "      <th>3</th>\n",
       "      <td>1210588</td>\n",
       "      <td>Beginner to Pro - Financial Analysis in Excel ...</td>\n",
       "      <td>https://www.udemy.com/complete-excel-finance-c...</td>\n",
       "      <td>True</td>\n",
       "      <td>95</td>\n",
       "      <td>2451</td>\n",
       "      <td>11</td>\n",
       "      <td>36</td>\n",
       "      <td>All Levels</td>\n",
       "      <td>3.0</td>\n",
       "      <td>2017-05-30T20:07:24Z</td>\n",
       "      <td>Business Finance</td>\n",
       "    </tr>\n",
       "    <tr>\n",
       "      <th>4</th>\n",
       "      <td>1011058</td>\n",
       "      <td>How To Maximize Your Profits Trading Options</td>\n",
       "      <td>https://www.udemy.com/how-to-maximize-your-pro...</td>\n",
       "      <td>True</td>\n",
       "      <td>200</td>\n",
       "      <td>1276</td>\n",
       "      <td>45</td>\n",
       "      <td>26</td>\n",
       "      <td>Intermediate Level</td>\n",
       "      <td>2.0</td>\n",
       "      <td>2016-12-13T14:57:18Z</td>\n",
       "      <td>Business Finance</td>\n",
       "    </tr>\n",
       "  </tbody>\n",
       "</table>\n",
       "</div>"
      ],
      "text/plain": [
       "   course_id                                       course_title  \\\n",
       "0    1070968                 Ultimate Investment Banking Course   \n",
       "1    1113822  Complete GST Course & Certification - Grow You...   \n",
       "2    1006314  Financial Modeling for Business Analysts and C...   \n",
       "3    1210588  Beginner to Pro - Financial Analysis in Excel ...   \n",
       "4    1011058       How To Maximize Your Profits Trading Options   \n",
       "\n",
       "                                                 url  is_paid  price  \\\n",
       "0  https://www.udemy.com/ultimate-investment-bank...     True    200   \n",
       "1      https://www.udemy.com/goods-and-services-tax/     True     75   \n",
       "2  https://www.udemy.com/financial-modeling-for-b...     True     45   \n",
       "3  https://www.udemy.com/complete-excel-finance-c...     True     95   \n",
       "4  https://www.udemy.com/how-to-maximize-your-pro...     True    200   \n",
       "\n",
       "   num_subscribers  num_reviews  num_lectures               level  \\\n",
       "0             2147           23            51          All Levels   \n",
       "1             2792          923           274          All Levels   \n",
       "2             2174           74            51  Intermediate Level   \n",
       "3             2451           11            36          All Levels   \n",
       "4             1276           45            26  Intermediate Level   \n",
       "\n",
       "   content_duration   published_timestamp           subject  \n",
       "0               1.5  2017-01-18T20:58:58Z  Business Finance  \n",
       "1              39.0  2017-03-09T16:34:20Z  Business Finance  \n",
       "2               2.5  2016-12-19T19:26:30Z  Business Finance  \n",
       "3               3.0  2017-05-30T20:07:24Z  Business Finance  \n",
       "4               2.0  2016-12-13T14:57:18Z  Business Finance  "
      ]
     },
     "execution_count": 4,
     "metadata": {},
     "output_type": "execute_result"
    }
   ],
   "source": [
    "df.head()"
   ]
  },
  {
   "cell_type": "code",
   "execution_count": 5,
   "id": "ac7f6648",
   "metadata": {
    "execution": {
     "iopub.execute_input": "2023-01-10T19:02:50.900581Z",
     "iopub.status.busy": "2023-01-10T19:02:50.899156Z",
     "iopub.status.idle": "2023-01-10T19:02:50.934761Z",
     "shell.execute_reply": "2023-01-10T19:02:50.932662Z"
    },
    "papermill": {
     "duration": 0.049519,
     "end_time": "2023-01-10T19:02:50.937831",
     "exception": false,
     "start_time": "2023-01-10T19:02:50.888312",
     "status": "completed"
    },
    "tags": []
   },
   "outputs": [
    {
     "name": "stdout",
     "output_type": "stream",
     "text": [
      "<class 'pandas.core.frame.DataFrame'>\n",
      "RangeIndex: 3678 entries, 0 to 3677\n",
      "Data columns (total 12 columns):\n",
      " #   Column               Non-Null Count  Dtype  \n",
      "---  ------               --------------  -----  \n",
      " 0   course_id            3678 non-null   int64  \n",
      " 1   course_title         3678 non-null   object \n",
      " 2   url                  3678 non-null   object \n",
      " 3   is_paid              3678 non-null   bool   \n",
      " 4   price                3678 non-null   int64  \n",
      " 5   num_subscribers      3678 non-null   int64  \n",
      " 6   num_reviews          3678 non-null   int64  \n",
      " 7   num_lectures         3678 non-null   int64  \n",
      " 8   level                3678 non-null   object \n",
      " 9   content_duration     3678 non-null   float64\n",
      " 10  published_timestamp  3678 non-null   object \n",
      " 11  subject              3678 non-null   object \n",
      "dtypes: bool(1), float64(1), int64(5), object(5)\n",
      "memory usage: 319.8+ KB\n"
     ]
    }
   ],
   "source": [
    "df.info()"
   ]
  },
  {
   "cell_type": "code",
   "execution_count": 6,
   "id": "bdb88d52",
   "metadata": {
    "execution": {
     "iopub.execute_input": "2023-01-10T19:02:50.958847Z",
     "iopub.status.busy": "2023-01-10T19:02:50.958248Z",
     "iopub.status.idle": "2023-01-10T19:02:50.980474Z",
     "shell.execute_reply": "2023-01-10T19:02:50.979403Z"
    },
    "papermill": {
     "duration": 0.035648,
     "end_time": "2023-01-10T19:02:50.982917",
     "exception": false,
     "start_time": "2023-01-10T19:02:50.947269",
     "status": "completed"
    },
    "tags": []
   },
   "outputs": [
    {
     "data": {
      "text/html": [
       "<div>\n",
       "<style scoped>\n",
       "    .dataframe tbody tr th:only-of-type {\n",
       "        vertical-align: middle;\n",
       "    }\n",
       "\n",
       "    .dataframe tbody tr th {\n",
       "        vertical-align: top;\n",
       "    }\n",
       "\n",
       "    .dataframe thead th {\n",
       "        text-align: right;\n",
       "    }\n",
       "</style>\n",
       "<table border=\"1\" class=\"dataframe\">\n",
       "  <thead>\n",
       "    <tr style=\"text-align: right;\">\n",
       "      <th></th>\n",
       "      <th>course_id</th>\n",
       "      <th>course_title</th>\n",
       "      <th>url</th>\n",
       "      <th>is_paid</th>\n",
       "      <th>price</th>\n",
       "      <th>num_subscribers</th>\n",
       "      <th>num_reviews</th>\n",
       "      <th>num_lectures</th>\n",
       "      <th>level</th>\n",
       "      <th>content_duration</th>\n",
       "      <th>published_timestamp</th>\n",
       "      <th>subject</th>\n",
       "    </tr>\n",
       "  </thead>\n",
       "  <tbody>\n",
       "    <tr>\n",
       "      <th>759</th>\n",
       "      <td>86558</td>\n",
       "      <td>The Art Of Financial Valuation With Certificate</td>\n",
       "      <td>https://www.udemy.com/learn-how-to-think-like-...</td>\n",
       "      <td>True</td>\n",
       "      <td>20</td>\n",
       "      <td>3372</td>\n",
       "      <td>12</td>\n",
       "      <td>12</td>\n",
       "      <td>All Levels</td>\n",
       "      <td>2.0</td>\n",
       "      <td>2013-09-29T23:52:54Z</td>\n",
       "      <td>Business Finance</td>\n",
       "    </tr>\n",
       "    <tr>\n",
       "      <th>2021</th>\n",
       "      <td>1170074</td>\n",
       "      <td>#10 Hand Coordination - Transfer Chord Ballad ...</td>\n",
       "      <td>https://www.udemy.com/10-hand-coordination-tra...</td>\n",
       "      <td>True</td>\n",
       "      <td>75</td>\n",
       "      <td>1593</td>\n",
       "      <td>1</td>\n",
       "      <td>41</td>\n",
       "      <td>Intermediate Level</td>\n",
       "      <td>1.0</td>\n",
       "      <td>2017-04-12T19:06:34Z</td>\n",
       "      <td>Musical Instruments</td>\n",
       "    </tr>\n",
       "    <tr>\n",
       "      <th>171</th>\n",
       "      <td>1105216</td>\n",
       "      <td>Bank Financial Management A Comprehensive Study</td>\n",
       "      <td>https://www.udemy.com/bank-financial-managemen...</td>\n",
       "      <td>True</td>\n",
       "      <td>50</td>\n",
       "      <td>1081</td>\n",
       "      <td>6</td>\n",
       "      <td>21</td>\n",
       "      <td>All Levels</td>\n",
       "      <td>1.5</td>\n",
       "      <td>2017-02-10T00:51:57Z</td>\n",
       "      <td>Business Finance</td>\n",
       "    </tr>\n",
       "    <tr>\n",
       "      <th>990</th>\n",
       "      <td>1153876</td>\n",
       "      <td>Term Loan Appraisal for bankers, credit analysts</td>\n",
       "      <td>https://www.udemy.com/term-loan-appraisal-for-...</td>\n",
       "      <td>True</td>\n",
       "      <td>20</td>\n",
       "      <td>11</td>\n",
       "      <td>2</td>\n",
       "      <td>28</td>\n",
       "      <td>Beginner Level</td>\n",
       "      <td>6.5</td>\n",
       "      <td>2017-04-03T16:53:57Z</td>\n",
       "      <td>Business Finance</td>\n",
       "    </tr>\n",
       "    <tr>\n",
       "      <th>3546</th>\n",
       "      <td>313484</td>\n",
       "      <td>Laravel 4 try and enjoy php coding</td>\n",
       "      <td>https://www.udemy.com/laravel-4-try-and-enjoy-...</td>\n",
       "      <td>True</td>\n",
       "      <td>20</td>\n",
       "      <td>2402</td>\n",
       "      <td>26</td>\n",
       "      <td>23</td>\n",
       "      <td>Beginner Level</td>\n",
       "      <td>2.0</td>\n",
       "      <td>2014-10-20T10:48:09Z</td>\n",
       "      <td>Web Development</td>\n",
       "    </tr>\n",
       "    <tr>\n",
       "      <th>2713</th>\n",
       "      <td>1169378</td>\n",
       "      <td>Build a complete Fiverr clone with Node + Algo...</td>\n",
       "      <td>https://www.udemy.com/web-developer-build-five...</td>\n",
       "      <td>True</td>\n",
       "      <td>30</td>\n",
       "      <td>1741</td>\n",
       "      <td>26</td>\n",
       "      <td>87</td>\n",
       "      <td>All Levels</td>\n",
       "      <td>9.0</td>\n",
       "      <td>2017-05-20T05:38:42Z</td>\n",
       "      <td>Web Development</td>\n",
       "    </tr>\n",
       "    <tr>\n",
       "      <th>1169</th>\n",
       "      <td>273448</td>\n",
       "      <td>Learn How to Profit In Forex With Market Rhythms</td>\n",
       "      <td>https://www.udemy.com/learn-how-to-profit-with...</td>\n",
       "      <td>True</td>\n",
       "      <td>20</td>\n",
       "      <td>85</td>\n",
       "      <td>5</td>\n",
       "      <td>17</td>\n",
       "      <td>All Levels</td>\n",
       "      <td>1.5</td>\n",
       "      <td>2014-08-02T17:13:03Z</td>\n",
       "      <td>Business Finance</td>\n",
       "    </tr>\n",
       "    <tr>\n",
       "      <th>665</th>\n",
       "      <td>867682</td>\n",
       "      <td>How to start a successful career in finance?</td>\n",
       "      <td>https://www.udemy.com/the-complete-guide-how-t...</td>\n",
       "      <td>False</td>\n",
       "      <td>0</td>\n",
       "      <td>1318</td>\n",
       "      <td>7</td>\n",
       "      <td>27</td>\n",
       "      <td>All Levels</td>\n",
       "      <td>2.0</td>\n",
       "      <td>2016-08-24T18:29:34Z</td>\n",
       "      <td>Business Finance</td>\n",
       "    </tr>\n",
       "    <tr>\n",
       "      <th>1173</th>\n",
       "      <td>1001010</td>\n",
       "      <td>Forex Trading: Strategia Correlazione EUR/GBP ...</td>\n",
       "      <td>https://www.udemy.com/forex-trading-strategia-...</td>\n",
       "      <td>True</td>\n",
       "      <td>50</td>\n",
       "      <td>137</td>\n",
       "      <td>39</td>\n",
       "      <td>27</td>\n",
       "      <td>Intermediate Level</td>\n",
       "      <td>1.5</td>\n",
       "      <td>2016-11-10T15:10:05Z</td>\n",
       "      <td>Business Finance</td>\n",
       "    </tr>\n",
       "    <tr>\n",
       "      <th>3419</th>\n",
       "      <td>326326</td>\n",
       "      <td>SharePoint 2013 Development using C# - Part I</td>\n",
       "      <td>https://www.udemy.com/sharepoint2013development/</td>\n",
       "      <td>True</td>\n",
       "      <td>50</td>\n",
       "      <td>891</td>\n",
       "      <td>101</td>\n",
       "      <td>119</td>\n",
       "      <td>All Levels</td>\n",
       "      <td>8.5</td>\n",
       "      <td>2014-11-06T13:59:44Z</td>\n",
       "      <td>Web Development</td>\n",
       "    </tr>\n",
       "  </tbody>\n",
       "</table>\n",
       "</div>"
      ],
      "text/plain": [
       "      course_id                                       course_title  \\\n",
       "759       86558    The Art Of Financial Valuation With Certificate   \n",
       "2021    1170074  #10 Hand Coordination - Transfer Chord Ballad ...   \n",
       "171     1105216    Bank Financial Management A Comprehensive Study   \n",
       "990     1153876   Term Loan Appraisal for bankers, credit analysts   \n",
       "3546     313484                 Laravel 4 try and enjoy php coding   \n",
       "2713    1169378  Build a complete Fiverr clone with Node + Algo...   \n",
       "1169     273448   Learn How to Profit In Forex With Market Rhythms   \n",
       "665      867682       How to start a successful career in finance?   \n",
       "1173    1001010  Forex Trading: Strategia Correlazione EUR/GBP ...   \n",
       "3419     326326      SharePoint 2013 Development using C# - Part I   \n",
       "\n",
       "                                                    url  is_paid  price  \\\n",
       "759   https://www.udemy.com/learn-how-to-think-like-...     True     20   \n",
       "2021  https://www.udemy.com/10-hand-coordination-tra...     True     75   \n",
       "171   https://www.udemy.com/bank-financial-managemen...     True     50   \n",
       "990   https://www.udemy.com/term-loan-appraisal-for-...     True     20   \n",
       "3546  https://www.udemy.com/laravel-4-try-and-enjoy-...     True     20   \n",
       "2713  https://www.udemy.com/web-developer-build-five...     True     30   \n",
       "1169  https://www.udemy.com/learn-how-to-profit-with...     True     20   \n",
       "665   https://www.udemy.com/the-complete-guide-how-t...    False      0   \n",
       "1173  https://www.udemy.com/forex-trading-strategia-...     True     50   \n",
       "3419   https://www.udemy.com/sharepoint2013development/     True     50   \n",
       "\n",
       "      num_subscribers  num_reviews  num_lectures               level  \\\n",
       "759              3372           12            12          All Levels   \n",
       "2021             1593            1            41  Intermediate Level   \n",
       "171              1081            6            21          All Levels   \n",
       "990                11            2            28      Beginner Level   \n",
       "3546             2402           26            23      Beginner Level   \n",
       "2713             1741           26            87          All Levels   \n",
       "1169               85            5            17          All Levels   \n",
       "665              1318            7            27          All Levels   \n",
       "1173              137           39            27  Intermediate Level   \n",
       "3419              891          101           119          All Levels   \n",
       "\n",
       "      content_duration   published_timestamp              subject  \n",
       "759                2.0  2013-09-29T23:52:54Z     Business Finance  \n",
       "2021               1.0  2017-04-12T19:06:34Z  Musical Instruments  \n",
       "171                1.5  2017-02-10T00:51:57Z     Business Finance  \n",
       "990                6.5  2017-04-03T16:53:57Z     Business Finance  \n",
       "3546               2.0  2014-10-20T10:48:09Z      Web Development  \n",
       "2713               9.0  2017-05-20T05:38:42Z      Web Development  \n",
       "1169               1.5  2014-08-02T17:13:03Z     Business Finance  \n",
       "665                2.0  2016-08-24T18:29:34Z     Business Finance  \n",
       "1173               1.5  2016-11-10T15:10:05Z     Business Finance  \n",
       "3419               8.5  2014-11-06T13:59:44Z      Web Development  "
      ]
     },
     "execution_count": 6,
     "metadata": {},
     "output_type": "execute_result"
    }
   ],
   "source": [
    "df.sample(10)"
   ]
  },
  {
   "cell_type": "code",
   "execution_count": 7,
   "id": "ddaafd30",
   "metadata": {
    "execution": {
     "iopub.execute_input": "2023-01-10T19:02:51.004634Z",
     "iopub.status.busy": "2023-01-10T19:02:51.003291Z",
     "iopub.status.idle": "2023-01-10T19:02:51.038057Z",
     "shell.execute_reply": "2023-01-10T19:02:51.035962Z"
    },
    "papermill": {
     "duration": 0.048316,
     "end_time": "2023-01-10T19:02:51.040742",
     "exception": false,
     "start_time": "2023-01-10T19:02:50.992426",
     "status": "completed"
    },
    "tags": []
   },
   "outputs": [
    {
     "data": {
      "text/html": [
       "<div>\n",
       "<style scoped>\n",
       "    .dataframe tbody tr th:only-of-type {\n",
       "        vertical-align: middle;\n",
       "    }\n",
       "\n",
       "    .dataframe tbody tr th {\n",
       "        vertical-align: top;\n",
       "    }\n",
       "\n",
       "    .dataframe thead th {\n",
       "        text-align: right;\n",
       "    }\n",
       "</style>\n",
       "<table border=\"1\" class=\"dataframe\">\n",
       "  <thead>\n",
       "    <tr style=\"text-align: right;\">\n",
       "      <th></th>\n",
       "      <th>course_id</th>\n",
       "      <th>price</th>\n",
       "      <th>num_subscribers</th>\n",
       "      <th>num_reviews</th>\n",
       "      <th>num_lectures</th>\n",
       "      <th>content_duration</th>\n",
       "    </tr>\n",
       "  </thead>\n",
       "  <tbody>\n",
       "    <tr>\n",
       "      <th>count</th>\n",
       "      <td>3.678000e+03</td>\n",
       "      <td>3678.000000</td>\n",
       "      <td>3678.000000</td>\n",
       "      <td>3678.000000</td>\n",
       "      <td>3678.000000</td>\n",
       "      <td>3678.000000</td>\n",
       "    </tr>\n",
       "    <tr>\n",
       "      <th>mean</th>\n",
       "      <td>6.759720e+05</td>\n",
       "      <td>66.049483</td>\n",
       "      <td>3197.150625</td>\n",
       "      <td>156.259108</td>\n",
       "      <td>40.108755</td>\n",
       "      <td>4.094517</td>\n",
       "    </tr>\n",
       "    <tr>\n",
       "      <th>std</th>\n",
       "      <td>3.432732e+05</td>\n",
       "      <td>61.005755</td>\n",
       "      <td>9504.117010</td>\n",
       "      <td>935.452044</td>\n",
       "      <td>50.383346</td>\n",
       "      <td>6.053840</td>\n",
       "    </tr>\n",
       "    <tr>\n",
       "      <th>min</th>\n",
       "      <td>8.324000e+03</td>\n",
       "      <td>0.000000</td>\n",
       "      <td>0.000000</td>\n",
       "      <td>0.000000</td>\n",
       "      <td>0.000000</td>\n",
       "      <td>0.000000</td>\n",
       "    </tr>\n",
       "    <tr>\n",
       "      <th>25%</th>\n",
       "      <td>4.076925e+05</td>\n",
       "      <td>20.000000</td>\n",
       "      <td>111.000000</td>\n",
       "      <td>4.000000</td>\n",
       "      <td>15.000000</td>\n",
       "      <td>1.000000</td>\n",
       "    </tr>\n",
       "    <tr>\n",
       "      <th>50%</th>\n",
       "      <td>6.879170e+05</td>\n",
       "      <td>45.000000</td>\n",
       "      <td>911.500000</td>\n",
       "      <td>18.000000</td>\n",
       "      <td>25.000000</td>\n",
       "      <td>2.000000</td>\n",
       "    </tr>\n",
       "    <tr>\n",
       "      <th>75%</th>\n",
       "      <td>9.613555e+05</td>\n",
       "      <td>95.000000</td>\n",
       "      <td>2546.000000</td>\n",
       "      <td>67.000000</td>\n",
       "      <td>45.750000</td>\n",
       "      <td>4.500000</td>\n",
       "    </tr>\n",
       "    <tr>\n",
       "      <th>max</th>\n",
       "      <td>1.282064e+06</td>\n",
       "      <td>200.000000</td>\n",
       "      <td>268923.000000</td>\n",
       "      <td>27445.000000</td>\n",
       "      <td>779.000000</td>\n",
       "      <td>78.500000</td>\n",
       "    </tr>\n",
       "  </tbody>\n",
       "</table>\n",
       "</div>"
      ],
      "text/plain": [
       "          course_id        price  num_subscribers   num_reviews  num_lectures  \\\n",
       "count  3.678000e+03  3678.000000      3678.000000   3678.000000   3678.000000   \n",
       "mean   6.759720e+05    66.049483      3197.150625    156.259108     40.108755   \n",
       "std    3.432732e+05    61.005755      9504.117010    935.452044     50.383346   \n",
       "min    8.324000e+03     0.000000         0.000000      0.000000      0.000000   \n",
       "25%    4.076925e+05    20.000000       111.000000      4.000000     15.000000   \n",
       "50%    6.879170e+05    45.000000       911.500000     18.000000     25.000000   \n",
       "75%    9.613555e+05    95.000000      2546.000000     67.000000     45.750000   \n",
       "max    1.282064e+06   200.000000    268923.000000  27445.000000    779.000000   \n",
       "\n",
       "       content_duration  \n",
       "count       3678.000000  \n",
       "mean           4.094517  \n",
       "std            6.053840  \n",
       "min            0.000000  \n",
       "25%            1.000000  \n",
       "50%            2.000000  \n",
       "75%            4.500000  \n",
       "max           78.500000  "
      ]
     },
     "execution_count": 7,
     "metadata": {},
     "output_type": "execute_result"
    }
   ],
   "source": [
    "df.describe()"
   ]
  },
  {
   "cell_type": "markdown",
   "id": "c8b173cf",
   "metadata": {
    "papermill": {
     "duration": 0.009188,
     "end_time": "2023-01-10T19:02:51.059935",
     "exception": false,
     "start_time": "2023-01-10T19:02:51.050747",
     "status": "completed"
    },
    "tags": []
   },
   "source": [
    "## Data Cleaning\n",
    "* null \n",
    "* remove unnesesary columns\n",
    "* duplicate\n",
    "* column type\n",
    "* relation categorical columns"
   ]
  },
  {
   "cell_type": "code",
   "execution_count": 8,
   "id": "b007c3b8",
   "metadata": {
    "execution": {
     "iopub.execute_input": "2023-01-10T19:02:51.081157Z",
     "iopub.status.busy": "2023-01-10T19:02:51.080717Z",
     "iopub.status.idle": "2023-01-10T19:02:51.092099Z",
     "shell.execute_reply": "2023-01-10T19:02:51.090895Z"
    },
    "papermill": {
     "duration": 0.024864,
     "end_time": "2023-01-10T19:02:51.094449",
     "exception": false,
     "start_time": "2023-01-10T19:02:51.069585",
     "status": "completed"
    },
    "tags": []
   },
   "outputs": [
    {
     "data": {
      "text/plain": [
       "course_id              0\n",
       "course_title           0\n",
       "url                    0\n",
       "is_paid                0\n",
       "price                  0\n",
       "num_subscribers        0\n",
       "num_reviews            0\n",
       "num_lectures           0\n",
       "level                  0\n",
       "content_duration       0\n",
       "published_timestamp    0\n",
       "subject                0\n",
       "dtype: int64"
      ]
     },
     "execution_count": 8,
     "metadata": {},
     "output_type": "execute_result"
    }
   ],
   "source": [
    "df.isnull().sum()"
   ]
  },
  {
   "cell_type": "code",
   "execution_count": 9,
   "id": "f4570889",
   "metadata": {
    "execution": {
     "iopub.execute_input": "2023-01-10T19:02:51.115483Z",
     "iopub.status.busy": "2023-01-10T19:02:51.114976Z",
     "iopub.status.idle": "2023-01-10T19:02:51.124250Z",
     "shell.execute_reply": "2023-01-10T19:02:51.123058Z"
    },
    "papermill": {
     "duration": 0.022808,
     "end_time": "2023-01-10T19:02:51.126911",
     "exception": false,
     "start_time": "2023-01-10T19:02:51.104103",
     "status": "completed"
    },
    "tags": []
   },
   "outputs": [],
   "source": [
    "df.drop('url',axis=1,inplace=True)\n",
    "df.drop('course_id',axis=1,inplace=True)"
   ]
  },
  {
   "cell_type": "markdown",
   "id": "1404b192",
   "metadata": {
    "papermill": {
     "duration": 0.00958,
     "end_time": "2023-01-10T19:02:51.146246",
     "exception": false,
     "start_time": "2023-01-10T19:02:51.136666",
     "status": "completed"
    },
    "tags": []
   },
   "source": [
    "### convert opject to date"
   ]
  },
  {
   "cell_type": "code",
   "execution_count": 10,
   "id": "bbd773aa",
   "metadata": {
    "execution": {
     "iopub.execute_input": "2023-01-10T19:02:51.168853Z",
     "iopub.status.busy": "2023-01-10T19:02:51.168430Z",
     "iopub.status.idle": "2023-01-10T19:02:51.191950Z",
     "shell.execute_reply": "2023-01-10T19:02:51.190708Z"
    },
    "papermill": {
     "duration": 0.038118,
     "end_time": "2023-01-10T19:02:51.194430",
     "exception": false,
     "start_time": "2023-01-10T19:02:51.156312",
     "status": "completed"
    },
    "tags": []
   },
   "outputs": [
    {
     "data": {
      "text/html": [
       "<div>\n",
       "<style scoped>\n",
       "    .dataframe tbody tr th:only-of-type {\n",
       "        vertical-align: middle;\n",
       "    }\n",
       "\n",
       "    .dataframe tbody tr th {\n",
       "        vertical-align: top;\n",
       "    }\n",
       "\n",
       "    .dataframe thead th {\n",
       "        text-align: right;\n",
       "    }\n",
       "</style>\n",
       "<table border=\"1\" class=\"dataframe\">\n",
       "  <thead>\n",
       "    <tr style=\"text-align: right;\">\n",
       "      <th></th>\n",
       "      <th>course_title</th>\n",
       "      <th>is_paid</th>\n",
       "      <th>price</th>\n",
       "      <th>num_subscribers</th>\n",
       "      <th>num_reviews</th>\n",
       "      <th>num_lectures</th>\n",
       "      <th>level</th>\n",
       "      <th>content_duration</th>\n",
       "      <th>published_timestamp</th>\n",
       "      <th>subject</th>\n",
       "    </tr>\n",
       "  </thead>\n",
       "  <tbody>\n",
       "    <tr>\n",
       "      <th>0</th>\n",
       "      <td>Ultimate Investment Banking Course</td>\n",
       "      <td>True</td>\n",
       "      <td>200</td>\n",
       "      <td>2147</td>\n",
       "      <td>23</td>\n",
       "      <td>51</td>\n",
       "      <td>All Levels</td>\n",
       "      <td>1.5</td>\n",
       "      <td>2017-01-18 20:58:58+00:00</td>\n",
       "      <td>Business Finance</td>\n",
       "    </tr>\n",
       "    <tr>\n",
       "      <th>1</th>\n",
       "      <td>Complete GST Course &amp; Certification - Grow You...</td>\n",
       "      <td>True</td>\n",
       "      <td>75</td>\n",
       "      <td>2792</td>\n",
       "      <td>923</td>\n",
       "      <td>274</td>\n",
       "      <td>All Levels</td>\n",
       "      <td>39.0</td>\n",
       "      <td>2017-03-09 16:34:20+00:00</td>\n",
       "      <td>Business Finance</td>\n",
       "    </tr>\n",
       "    <tr>\n",
       "      <th>2</th>\n",
       "      <td>Financial Modeling for Business Analysts and C...</td>\n",
       "      <td>True</td>\n",
       "      <td>45</td>\n",
       "      <td>2174</td>\n",
       "      <td>74</td>\n",
       "      <td>51</td>\n",
       "      <td>Intermediate Level</td>\n",
       "      <td>2.5</td>\n",
       "      <td>2016-12-19 19:26:30+00:00</td>\n",
       "      <td>Business Finance</td>\n",
       "    </tr>\n",
       "    <tr>\n",
       "      <th>3</th>\n",
       "      <td>Beginner to Pro - Financial Analysis in Excel ...</td>\n",
       "      <td>True</td>\n",
       "      <td>95</td>\n",
       "      <td>2451</td>\n",
       "      <td>11</td>\n",
       "      <td>36</td>\n",
       "      <td>All Levels</td>\n",
       "      <td>3.0</td>\n",
       "      <td>2017-05-30 20:07:24+00:00</td>\n",
       "      <td>Business Finance</td>\n",
       "    </tr>\n",
       "    <tr>\n",
       "      <th>4</th>\n",
       "      <td>How To Maximize Your Profits Trading Options</td>\n",
       "      <td>True</td>\n",
       "      <td>200</td>\n",
       "      <td>1276</td>\n",
       "      <td>45</td>\n",
       "      <td>26</td>\n",
       "      <td>Intermediate Level</td>\n",
       "      <td>2.0</td>\n",
       "      <td>2016-12-13 14:57:18+00:00</td>\n",
       "      <td>Business Finance</td>\n",
       "    </tr>\n",
       "  </tbody>\n",
       "</table>\n",
       "</div>"
      ],
      "text/plain": [
       "                                        course_title  is_paid  price  \\\n",
       "0                 Ultimate Investment Banking Course     True    200   \n",
       "1  Complete GST Course & Certification - Grow You...     True     75   \n",
       "2  Financial Modeling for Business Analysts and C...     True     45   \n",
       "3  Beginner to Pro - Financial Analysis in Excel ...     True     95   \n",
       "4       How To Maximize Your Profits Trading Options     True    200   \n",
       "\n",
       "   num_subscribers  num_reviews  num_lectures               level  \\\n",
       "0             2147           23            51          All Levels   \n",
       "1             2792          923           274          All Levels   \n",
       "2             2174           74            51  Intermediate Level   \n",
       "3             2451           11            36          All Levels   \n",
       "4             1276           45            26  Intermediate Level   \n",
       "\n",
       "   content_duration       published_timestamp           subject  \n",
       "0               1.5 2017-01-18 20:58:58+00:00  Business Finance  \n",
       "1              39.0 2017-03-09 16:34:20+00:00  Business Finance  \n",
       "2               2.5 2016-12-19 19:26:30+00:00  Business Finance  \n",
       "3               3.0 2017-05-30 20:07:24+00:00  Business Finance  \n",
       "4               2.0 2016-12-13 14:57:18+00:00  Business Finance  "
      ]
     },
     "execution_count": 10,
     "metadata": {},
     "output_type": "execute_result"
    }
   ],
   "source": [
    "df['published_timestamp']=pd.to_datetime(df['published_timestamp'])\n",
    "df.head()"
   ]
  },
  {
   "cell_type": "markdown",
   "id": "3b30d547",
   "metadata": {
    "papermill": {
     "duration": 0.010395,
     "end_time": "2023-01-10T19:02:51.215240",
     "exception": false,
     "start_time": "2023-01-10T19:02:51.204845",
     "status": "completed"
    },
    "tags": []
   },
   "source": [
    "### show data that duplicate"
   ]
  },
  {
   "cell_type": "code",
   "execution_count": 11,
   "id": "5a3d2ac5",
   "metadata": {
    "execution": {
     "iopub.execute_input": "2023-01-10T19:02:51.237863Z",
     "iopub.status.busy": "2023-01-10T19:02:51.236469Z",
     "iopub.status.idle": "2023-01-10T19:02:51.264073Z",
     "shell.execute_reply": "2023-01-10T19:02:51.262570Z"
    },
    "papermill": {
     "duration": 0.041906,
     "end_time": "2023-01-10T19:02:51.267090",
     "exception": false,
     "start_time": "2023-01-10T19:02:51.225184",
     "status": "completed"
    },
    "tags": []
   },
   "outputs": [
    {
     "data": {
      "text/html": [
       "<div>\n",
       "<style scoped>\n",
       "    .dataframe tbody tr th:only-of-type {\n",
       "        vertical-align: middle;\n",
       "    }\n",
       "\n",
       "    .dataframe tbody tr th {\n",
       "        vertical-align: top;\n",
       "    }\n",
       "\n",
       "    .dataframe thead th {\n",
       "        text-align: right;\n",
       "    }\n",
       "</style>\n",
       "<table border=\"1\" class=\"dataframe\">\n",
       "  <thead>\n",
       "    <tr style=\"text-align: right;\">\n",
       "      <th></th>\n",
       "      <th>course_title</th>\n",
       "      <th>is_paid</th>\n",
       "      <th>price</th>\n",
       "      <th>num_subscribers</th>\n",
       "      <th>num_reviews</th>\n",
       "      <th>num_lectures</th>\n",
       "      <th>level</th>\n",
       "      <th>content_duration</th>\n",
       "      <th>published_timestamp</th>\n",
       "      <th>subject</th>\n",
       "    </tr>\n",
       "  </thead>\n",
       "  <tbody>\n",
       "    <tr>\n",
       "      <th>787</th>\n",
       "      <td>Essentials of money value: Get a financial Life !</td>\n",
       "      <td>True</td>\n",
       "      <td>20</td>\n",
       "      <td>0</td>\n",
       "      <td>0</td>\n",
       "      <td>20</td>\n",
       "      <td>All Levels</td>\n",
       "      <td>0.616667</td>\n",
       "      <td>2016-05-16 18:28:30+00:00</td>\n",
       "      <td>Business Finance</td>\n",
       "    </tr>\n",
       "    <tr>\n",
       "      <th>788</th>\n",
       "      <td>Introduction to Forex Trading Business For Beg...</td>\n",
       "      <td>True</td>\n",
       "      <td>20</td>\n",
       "      <td>0</td>\n",
       "      <td>0</td>\n",
       "      <td>27</td>\n",
       "      <td>Beginner Level</td>\n",
       "      <td>1.500000</td>\n",
       "      <td>2017-04-23 16:19:01+00:00</td>\n",
       "      <td>Business Finance</td>\n",
       "    </tr>\n",
       "    <tr>\n",
       "      <th>894</th>\n",
       "      <td>Understanding Financial Statements</td>\n",
       "      <td>True</td>\n",
       "      <td>25</td>\n",
       "      <td>0</td>\n",
       "      <td>0</td>\n",
       "      <td>10</td>\n",
       "      <td>All Levels</td>\n",
       "      <td>1.000000</td>\n",
       "      <td>2016-12-15 14:56:17+00:00</td>\n",
       "      <td>Business Finance</td>\n",
       "    </tr>\n",
       "    <tr>\n",
       "      <th>1100</th>\n",
       "      <td>CFA Level 2- Quantitative Methods</td>\n",
       "      <td>True</td>\n",
       "      <td>40</td>\n",
       "      <td>0</td>\n",
       "      <td>0</td>\n",
       "      <td>35</td>\n",
       "      <td>All Levels</td>\n",
       "      <td>5.500000</td>\n",
       "      <td>2017-07-02 14:29:35+00:00</td>\n",
       "      <td>Business Finance</td>\n",
       "    </tr>\n",
       "    <tr>\n",
       "      <th>1473</th>\n",
       "      <td>MicroStation - Células</td>\n",
       "      <td>True</td>\n",
       "      <td>20</td>\n",
       "      <td>0</td>\n",
       "      <td>0</td>\n",
       "      <td>9</td>\n",
       "      <td>Beginner Level</td>\n",
       "      <td>0.616667</td>\n",
       "      <td>2014-04-15 21:48:55+00:00</td>\n",
       "      <td>Graphic Design</td>\n",
       "    </tr>\n",
       "    <tr>\n",
       "      <th>2561</th>\n",
       "      <td>Learn Web Designing &amp; HTML5/CSS3 Essentials in...</td>\n",
       "      <td>True</td>\n",
       "      <td>75</td>\n",
       "      <td>43285</td>\n",
       "      <td>525</td>\n",
       "      <td>24</td>\n",
       "      <td>All Levels</td>\n",
       "      <td>4.000000</td>\n",
       "      <td>2013-01-03 00:55:31+00:00</td>\n",
       "      <td>Web Development</td>\n",
       "    </tr>\n",
       "  </tbody>\n",
       "</table>\n",
       "</div>"
      ],
      "text/plain": [
       "                                           course_title  is_paid  price  \\\n",
       "787   Essentials of money value: Get a financial Life !     True     20   \n",
       "788   Introduction to Forex Trading Business For Beg...     True     20   \n",
       "894                  Understanding Financial Statements     True     25   \n",
       "1100                  CFA Level 2- Quantitative Methods     True     40   \n",
       "1473                             MicroStation - Células     True     20   \n",
       "2561  Learn Web Designing & HTML5/CSS3 Essentials in...     True     75   \n",
       "\n",
       "      num_subscribers  num_reviews  num_lectures           level  \\\n",
       "787                 0            0            20      All Levels   \n",
       "788                 0            0            27  Beginner Level   \n",
       "894                 0            0            10      All Levels   \n",
       "1100                0            0            35      All Levels   \n",
       "1473                0            0             9  Beginner Level   \n",
       "2561            43285          525            24      All Levels   \n",
       "\n",
       "      content_duration       published_timestamp           subject  \n",
       "787           0.616667 2016-05-16 18:28:30+00:00  Business Finance  \n",
       "788           1.500000 2017-04-23 16:19:01+00:00  Business Finance  \n",
       "894           1.000000 2016-12-15 14:56:17+00:00  Business Finance  \n",
       "1100          5.500000 2017-07-02 14:29:35+00:00  Business Finance  \n",
       "1473          0.616667 2014-04-15 21:48:55+00:00    Graphic Design  \n",
       "2561          4.000000 2013-01-03 00:55:31+00:00   Web Development  "
      ]
     },
     "execution_count": 11,
     "metadata": {},
     "output_type": "execute_result"
    }
   ],
   "source": [
    "df[df.duplicated()]"
   ]
  },
  {
   "cell_type": "code",
   "execution_count": 12,
   "id": "8c020157",
   "metadata": {
    "execution": {
     "iopub.execute_input": "2023-01-10T19:02:51.291369Z",
     "iopub.status.busy": "2023-01-10T19:02:51.290952Z",
     "iopub.status.idle": "2023-01-10T19:02:51.303098Z",
     "shell.execute_reply": "2023-01-10T19:02:51.301741Z"
    },
    "papermill": {
     "duration": 0.027906,
     "end_time": "2023-01-10T19:02:51.306020",
     "exception": false,
     "start_time": "2023-01-10T19:02:51.278114",
     "status": "completed"
    },
    "tags": []
   },
   "outputs": [],
   "source": [
    "df.drop_duplicates(inplace=True)"
   ]
  },
  {
   "cell_type": "markdown",
   "id": "69b448e4",
   "metadata": {
    "papermill": {
     "duration": 0.010215,
     "end_time": "2023-01-10T19:02:51.326368",
     "exception": false,
     "start_time": "2023-01-10T19:02:51.316153",
     "status": "completed"
    },
    "tags": []
   },
   "source": [
    "### Visualize\n",
    "* start with categorical\n",
    "* find relation between columns"
   ]
  },
  {
   "cell_type": "code",
   "execution_count": 13,
   "id": "d4b09d12",
   "metadata": {
    "execution": {
     "iopub.execute_input": "2023-01-10T19:02:51.348857Z",
     "iopub.status.busy": "2023-01-10T19:02:51.348433Z",
     "iopub.status.idle": "2023-01-10T19:02:51.540038Z",
     "shell.execute_reply": "2023-01-10T19:02:51.538418Z"
    },
    "papermill": {
     "duration": 0.207389,
     "end_time": "2023-01-10T19:02:51.544032",
     "exception": false,
     "start_time": "2023-01-10T19:02:51.336643",
     "status": "completed"
    },
    "tags": []
   },
   "outputs": [
    {
     "name": "stderr",
     "output_type": "stream",
     "text": [
      "/opt/conda/lib/python3.7/site-packages/seaborn/_decorators.py:43: FutureWarning: Pass the following variable as a keyword arg: x. From version 0.12, the only valid positional argument will be `data`, and passing other arguments without an explicit keyword will result in an error or misinterpretation.\n",
      "  FutureWarning\n"
     ]
    },
    {
     "data": {
      "text/plain": [
       "Text(0.5, 1.0, 'Paid vs Free courses')"
      ]
     },
     "execution_count": 13,
     "metadata": {},
     "output_type": "execute_result"
    },
    {
     "data": {
      "image/png": "[encoded data removed]",
      "text/plain": [
       "<Figure size 432x288 with 1 Axes>"
      ]
     },
     "metadata": {
      "needs_background": "light"
     },
     "output_type": "display_data"
    }
   ],
   "source": [
    "sns.countplot('is_paid',data=df)\n",
    "plt.title('Paid vs Free courses')"
   ]
  },
  {
   "cell_type": "markdown",
   "id": "897ffd02",
   "metadata": {
    "papermill": {
     "duration": 0.010212,
     "end_time": "2023-01-10T19:02:51.564807",
     "exception": false,
     "start_time": "2023-01-10T19:02:51.554595",
     "status": "completed"
    },
    "tags": []
   },
   "source": [
    "### ----------> most of the courses is paid"
   ]
  },
  {
   "cell_type": "code",
   "execution_count": 14,
   "id": "2198c708",
   "metadata": {
    "execution": {
     "iopub.execute_input": "2023-01-10T19:02:51.588612Z",
     "iopub.status.busy": "2023-01-10T19:02:51.587813Z",
     "iopub.status.idle": "2023-01-10T19:02:51.597151Z",
     "shell.execute_reply": "2023-01-10T19:02:51.595940Z"
    },
    "papermill": {
     "duration": 0.024382,
     "end_time": "2023-01-10T19:02:51.599925",
     "exception": false,
     "start_time": "2023-01-10T19:02:51.575543",
     "status": "completed"
    },
    "tags": []
   },
   "outputs": [
    {
     "data": {
      "text/plain": [
       "True     3362\n",
       "False     310\n",
       "Name: is_paid, dtype: int64"
      ]
     },
     "execution_count": 14,
     "metadata": {},
     "output_type": "execute_result"
    }
   ],
   "source": [
    "df['is_paid'].value_counts()"
   ]
  },
  {
   "cell_type": "code",
   "execution_count": 15,
   "id": "6c0c5c6c",
   "metadata": {
    "execution": {
     "iopub.execute_input": "2023-01-10T19:02:51.623437Z",
     "iopub.status.busy": "2023-01-10T19:02:51.622995Z",
     "iopub.status.idle": "2023-01-10T19:02:51.842647Z",
     "shell.execute_reply": "2023-01-10T19:02:51.841442Z"
    },
    "papermill": {
     "duration": 0.234598,
     "end_time": "2023-01-10T19:02:51.845377",
     "exception": false,
     "start_time": "2023-01-10T19:02:51.610779",
     "status": "completed"
    },
    "tags": []
   },
   "outputs": [
    {
     "data": {
      "text/plain": [
       "<AxesSubplot:>"
      ]
     },
     "execution_count": 15,
     "metadata": {},
     "output_type": "execute_result"
    },
    {
     "data": {
      "image/png": "[encoded data removed]",
      "text/plain": [
       "<Figure size 432x288 with 1 Axes>"
      ]
     },
     "metadata": {
      "needs_background": "light"
     },
     "output_type": "display_data"
    }
   ],
   "source": [
    "df['is_paid'].value_counts().plot(kind='bar')"
   ]
  },
  {
   "cell_type": "code",
   "execution_count": 16,
   "id": "c768f37c",
   "metadata": {
    "execution": {
     "iopub.execute_input": "2023-01-10T19:02:51.871504Z",
     "iopub.status.busy": "2023-01-10T19:02:51.871063Z",
     "iopub.status.idle": "2023-01-10T19:02:52.104890Z",
     "shell.execute_reply": "2023-01-10T19:02:52.103657Z"
    },
    "papermill": {
     "duration": 0.249638,
     "end_time": "2023-01-10T19:02:52.107573",
     "exception": false,
     "start_time": "2023-01-10T19:02:51.857935",
     "status": "completed"
    },
    "tags": []
   },
   "outputs": [
    {
     "name": "stderr",
     "output_type": "stream",
     "text": [
      "/opt/conda/lib/python3.7/site-packages/seaborn/_decorators.py:43: FutureWarning: Pass the following variable as a keyword arg: x. From version 0.12, the only valid positional argument will be `data`, and passing other arguments without an explicit keyword will result in an error or misinterpretation.\n",
      "  FutureWarning\n"
     ]
    },
    {
     "data": {
      "text/plain": [
       "<AxesSubplot:xlabel='level', ylabel='count'>"
      ]
     },
     "execution_count": 16,
     "metadata": {},
     "output_type": "execute_result"
    },
    {
     "data": {
      "image/png": "[encoded data removed]",
      "text/plain": [
       "<Figure size 576x432 with 1 Axes>"
      ]
     },
     "metadata": {
      "needs_background": "light"
     },
     "output_type": "display_data"
    }
   ],
   "source": [
    "plt.figure(figsize=(8,6))\n",
    "sns.countplot('level',data=df)"
   ]
  },
  {
   "cell_type": "markdown",
   "id": "7394941a",
   "metadata": {
    "papermill": {
     "duration": 0.010868,
     "end_time": "2023-01-10T19:02:52.129707",
     "exception": false,
     "start_time": "2023-01-10T19:02:52.118839",
     "status": "completed"
    },
    "tags": []
   },
   "source": [
    "#### ----> most the coures is All level or Beginner"
   ]
  },
  {
   "cell_type": "code",
   "execution_count": 17,
   "id": "8dfeeef7",
   "metadata": {
    "execution": {
     "iopub.execute_input": "2023-01-10T19:02:52.154693Z",
     "iopub.status.busy": "2023-01-10T19:02:52.153872Z",
     "iopub.status.idle": "2023-01-10T19:02:52.382504Z",
     "shell.execute_reply": "2023-01-10T19:02:52.381289Z"
    },
    "papermill": {
     "duration": 0.243757,
     "end_time": "2023-01-10T19:02:52.385093",
     "exception": false,
     "start_time": "2023-01-10T19:02:52.141336",
     "status": "completed"
    },
    "tags": []
   },
   "outputs": [
    {
     "name": "stderr",
     "output_type": "stream",
     "text": [
      "/opt/conda/lib/python3.7/site-packages/seaborn/_decorators.py:43: FutureWarning: Pass the following variable as a keyword arg: x. From version 0.12, the only valid positional argument will be `data`, and passing other arguments without an explicit keyword will result in an error or misinterpretation.\n",
      "  FutureWarning\n"
     ]
    },
    {
     "data": {
      "text/plain": [
       "<Figure size 864x720 with 0 Axes>"
      ]
     },
     "execution_count": 17,
     "metadata": {},
     "output_type": "execute_result"
    },
    {
     "data": {
      "image/png": "[encoded data removed]",
      "text/plain": [
       "<Figure size 432x288 with 1 Axes>"
      ]
     },
     "metadata": {
      "needs_background": "light"
     },
     "output_type": "display_data"
    },
    {
     "data": {
      "text/plain": [
       "<Figure size 864x720 with 0 Axes>"
      ]
     },
     "metadata": {},
     "output_type": "display_data"
    }
   ],
   "source": [
    "sns.countplot('subject',data=df)\n",
    "plt.figure(figsize=(12,10))"
   ]
  },
  {
   "cell_type": "code",
   "execution_count": 18,
   "id": "9a60bc09",
   "metadata": {
    "execution": {
     "iopub.execute_input": "2023-01-10T19:02:52.411687Z",
     "iopub.status.busy": "2023-01-10T19:02:52.410402Z",
     "iopub.status.idle": "2023-01-10T19:02:52.419811Z",
     "shell.execute_reply": "2023-01-10T19:02:52.418414Z"
    },
    "papermill": {
     "duration": 0.02582,
     "end_time": "2023-01-10T19:02:52.422933",
     "exception": false,
     "start_time": "2023-01-10T19:02:52.397113",
     "status": "completed"
    },
    "tags": []
   },
   "outputs": [
    {
     "data": {
      "text/plain": [
       "Web Development        1199\n",
       "Business Finance       1191\n",
       "Musical Instruments     680\n",
       "Graphic Design          602\n",
       "Name: subject, dtype: int64"
      ]
     },
     "execution_count": 18,
     "metadata": {},
     "output_type": "execute_result"
    }
   ],
   "source": [
    "df['subject'].value_counts()"
   ]
  },
  {
   "cell_type": "markdown",
   "id": "dcfa8a9e",
   "metadata": {
    "papermill": {
     "duration": 0.011847,
     "end_time": "2023-01-10T19:02:52.447230",
     "exception": false,
     "start_time": "2023-01-10T19:02:52.435383",
     "status": "completed"
    },
    "tags": []
   },
   "source": [
    "#### ----> most required fields= Web Development,Business Finance"
   ]
  },
  {
   "cell_type": "code",
   "execution_count": 19,
   "id": "e956becf",
   "metadata": {
    "execution": {
     "iopub.execute_input": "2023-01-10T19:02:52.473900Z",
     "iopub.status.busy": "2023-01-10T19:02:52.472671Z",
     "iopub.status.idle": "2023-01-10T19:02:52.981602Z",
     "shell.execute_reply": "2023-01-10T19:02:52.980449Z"
    },
    "papermill": {
     "duration": 0.525102,
     "end_time": "2023-01-10T19:02:52.984363",
     "exception": false,
     "start_time": "2023-01-10T19:02:52.459261",
     "status": "completed"
    },
    "tags": []
   },
   "outputs": [
    {
     "data": {
      "text/plain": [
       "<AxesSubplot:>"
      ]
     },
     "execution_count": 19,
     "metadata": {},
     "output_type": "execute_result"
    },
    {
     "data": {
      "image/png": "[encoded data removed]",
      "text/plain": [
       "<Figure size 576x432 with 2 Axes>"
      ]
     },
     "metadata": {
      "needs_background": "light"
     },
     "output_type": "display_data"
    }
   ],
   "source": [
    "plt.figure(figsize=(8,6))\n",
    "sns.heatmap(df.corr(),annot=True)"
   ]
  },
  {
   "cell_type": "markdown",
   "id": "a52c19fd",
   "metadata": {
    "papermill": {
     "duration": 0.01268,
     "end_time": "2023-01-10T19:02:53.010001",
     "exception": false,
     "start_time": "2023-01-10T19:02:52.997321",
     "status": "completed"
    },
    "tags": []
   },
   "source": [
    "### ----> Subscribe vs price"
   ]
  },
  {
   "cell_type": "code",
   "execution_count": 20,
   "id": "d9c1b2d9",
   "metadata": {
    "execution": {
     "iopub.execute_input": "2023-01-10T19:02:53.038317Z",
     "iopub.status.busy": "2023-01-10T19:02:53.037658Z",
     "iopub.status.idle": "2023-01-10T19:02:53.664048Z",
     "shell.execute_reply": "2023-01-10T19:02:53.662443Z"
    },
    "papermill": {
     "duration": 0.643825,
     "end_time": "2023-01-10T19:02:53.666874",
     "exception": false,
     "start_time": "2023-01-10T19:02:53.023049",
     "status": "completed"
    },
    "tags": []
   },
   "outputs": [
    {
     "data": {
      "text/plain": [
       "<AxesSubplot:xlabel='price', ylabel='num_subscribers'>"
      ]
     },
     "execution_count": 20,
     "metadata": {},
     "output_type": "execute_result"
    },
    {
     "data": {
      "image/png": "[encoded data removed]",
      "text/plain": [
       "<Figure size 864x576 with 1 Axes>"
      ]
     },
     "metadata": {
      "needs_background": "light"
     },
     "output_type": "display_data"
    }
   ],
   "source": [
    "plt.figure(figsize=(12,8))\n",
    "sns.regplot(x='price',y='num_subscribers',data=df)\n"
   ]
  },
  {
   "cell_type": "code",
   "execution_count": 21,
   "id": "7d4bdc61",
   "metadata": {
    "execution": {
     "iopub.execute_input": "2023-01-10T19:02:53.695262Z",
     "iopub.status.busy": "2023-01-10T19:02:53.694858Z",
     "iopub.status.idle": "2023-01-10T19:02:53.987724Z",
     "shell.execute_reply": "2023-01-10T19:02:53.986348Z"
    },
    "papermill": {
     "duration": 0.310611,
     "end_time": "2023-01-10T19:02:53.990849",
     "exception": false,
     "start_time": "2023-01-10T19:02:53.680238",
     "status": "completed"
    },
    "tags": []
   },
   "outputs": [
    {
     "data": {
      "text/plain": [
       "<AxesSubplot:xlabel='price', ylabel='num_subscribers'>"
      ]
     },
     "execution_count": 21,
     "metadata": {},
     "output_type": "execute_result"
    },
    {
     "data": {
      "image/png": "[encoded data removed]",
      "text/plain": [
       "<Figure size 864x576 with 1 Axes>"
      ]
     },
     "metadata": {
      "needs_background": "light"
     },
     "output_type": "display_data"
    }
   ],
   "source": [
    "# with out line \n",
    "plt.figure(figsize=(12,8))\n",
    "sns.scatterplot(x='price',y='num_subscribers',data=df)"
   ]
  },
  {
   "cell_type": "markdown",
   "id": "7656ab88",
   "metadata": {
    "papermill": {
     "duration": 0.014975,
     "end_time": "2023-01-10T19:02:54.020513",
     "exception": false,
     "start_time": "2023-01-10T19:02:54.005538",
     "status": "completed"
    },
    "tags": []
   },
   "source": [
    "#### -----> cours price dose not effect num of subscripers"
   ]
  },
  {
   "cell_type": "code",
   "execution_count": 22,
   "id": "729bdacf",
   "metadata": {
    "execution": {
     "iopub.execute_input": "2023-01-10T19:02:54.052391Z",
     "iopub.status.busy": "2023-01-10T19:02:54.051323Z",
     "iopub.status.idle": "2023-01-10T19:02:54.685227Z",
     "shell.execute_reply": "2023-01-10T19:02:54.683943Z"
    },
    "papermill": {
     "duration": 0.652766,
     "end_time": "2023-01-10T19:02:54.688082",
     "exception": false,
     "start_time": "2023-01-10T19:02:54.035316",
     "status": "completed"
    },
    "tags": []
   },
   "outputs": [
    {
     "data": {
      "text/plain": [
       "<AxesSubplot:xlabel='price', ylabel='num_reviews'>"
      ]
     },
     "execution_count": 22,
     "metadata": {},
     "output_type": "execute_result"
    },
    {
     "data": {
      "image/png": "[encoded data removed]",
      "text/plain": [
       "<Figure size 864x576 with 1 Axes>"
      ]
     },
     "metadata": {
      "needs_background": "light"
     },
     "output_type": "display_data"
    }
   ],
   "source": [
    "#number of reviews vs pric\n",
    "plt.figure(figsize=(12,8))\n",
    "sns.regplot(x='price',y='num_reviews',data=df)"
   ]
  },
  {
   "cell_type": "markdown",
   "id": "66a0eaff",
   "metadata": {
    "papermill": {
     "duration": 0.01551,
     "end_time": "2023-01-10T19:02:54.718877",
     "exception": false,
     "start_time": "2023-01-10T19:02:54.703367",
     "status": "completed"
    },
    "tags": []
   },
   "source": [
    "#### ----> course reviews dose not effect reviews"
   ]
  },
  {
   "cell_type": "code",
   "execution_count": 23,
   "id": "4805b43b",
   "metadata": {
    "execution": {
     "iopub.execute_input": "2023-01-10T19:02:54.751949Z",
     "iopub.status.busy": "2023-01-10T19:02:54.751486Z",
     "iopub.status.idle": "2023-01-10T19:02:55.384203Z",
     "shell.execute_reply": "2023-01-10T19:02:55.382711Z"
    },
    "papermill": {
     "duration": 0.652569,
     "end_time": "2023-01-10T19:02:55.387034",
     "exception": false,
     "start_time": "2023-01-10T19:02:54.734465",
     "status": "completed"
    },
    "tags": []
   },
   "outputs": [
    {
     "data": {
      "text/plain": [
       "<AxesSubplot:xlabel='price', ylabel='content_duration'>"
      ]
     },
     "execution_count": 23,
     "metadata": {},
     "output_type": "execute_result"
    },
    {
     "data": {
      "image/png": "[encoded data removed]",
      "text/plain": [
       "<Figure size 864x576 with 1 Axes>"
      ]
     },
     "metadata": {
      "needs_background": "light"
     },
     "output_type": "display_data"
    }
   ],
   "source": [
    "#number of duration vs pric\n",
    "plt.figure(figsize=(12,8))\n",
    "sns.regplot(x='price',y='content_duration',data=df)"
   ]
  },
  {
   "cell_type": "markdown",
   "id": "48a9cb28",
   "metadata": {
    "papermill": {
     "duration": 0.014776,
     "end_time": "2023-01-10T19:02:55.417087",
     "exception": false,
     "start_time": "2023-01-10T19:02:55.402311",
     "status": "completed"
    },
    "tags": []
   },
   "source": [
    "#### ---->cours duration may effect the cours price\n",
    "\n",
    "\n",
    "_______________________________________"
   ]
  },
  {
   "cell_type": "markdown",
   "id": "fadd6155",
   "metadata": {
    "papermill": {
     "duration": 0.016096,
     "end_time": "2023-01-10T19:02:55.449274",
     "exception": false,
     "start_time": "2023-01-10T19:02:55.433178",
     "status": "completed"
    },
    "tags": []
   },
   "source": [
    "### relation between course duration cours price "
   ]
  },
  {
   "cell_type": "code",
   "execution_count": 24,
   "id": "81746ebe",
   "metadata": {
    "execution": {
     "iopub.execute_input": "2023-01-10T19:02:55.481563Z",
     "iopub.status.busy": "2023-01-10T19:02:55.481159Z",
     "iopub.status.idle": "2023-01-10T19:02:56.101807Z",
     "shell.execute_reply": "2023-01-10T19:02:56.100722Z"
    },
    "papermill": {
     "duration": 0.640011,
     "end_time": "2023-01-10T19:02:56.104451",
     "exception": false,
     "start_time": "2023-01-10T19:02:55.464440",
     "status": "completed"
    },
    "tags": []
   },
   "outputs": [
    {
     "data": {
      "text/plain": [
       "<AxesSubplot:xlabel='num_subscribers', ylabel='content_duration'>"
      ]
     },
     "execution_count": 24,
     "metadata": {},
     "output_type": "execute_result"
    },
    {
     "data": {
      "image/png": "[encoded data removed]",
      "text/plain": [
       "<Figure size 864x576 with 1 Axes>"
      ]
     },
     "metadata": {
      "needs_background": "light"
     },
     "output_type": "display_data"
    }
   ],
   "source": [
    "#number of duration vs subscribers\n",
    "plt.figure(figsize=(12,8))\n",
    "sns.regplot(x='num_subscribers',y='content_duration',data=df)"
   ]
  },
  {
   "cell_type": "markdown",
   "id": "345c0d4d",
   "metadata": {
    "papermill": {
     "duration": 0.016835,
     "end_time": "2023-01-10T19:02:56.139259",
     "exception": false,
     "start_time": "2023-01-10T19:02:56.122424",
     "status": "completed"
    },
    "tags": []
   },
   "source": [
    "#### ------> course duration leads to more subscribers"
   ]
  }
 ],
 "metadata": {
  "kernelspec": {
   "display_name": "pandas_playground",
   "language": "python",
   "name": "python3"
  },
  "language_info": {
   "codemirror_mode": {
    "name": "ipython",
    "version": 3
   },
   "file_extension": ".py",
   "mimetype": "text/x-python",
   "name": "python",
   "nbconvert_exporter": "python",
   "pygments_lexer": "ipython3",
   "version": "3.10.4 | packaged by conda-forge | (main, Mar 30 2022, 08:38:02) [MSC v.1916 64 bit (AMD64)]"
  },
  "papermill": {
   "default_parameters": {},
   "duration": 18.519978,
   "end_time": "2023-01-10T19:02:57.079219",
   "environment_variables": {},
   "exception": null,
   "input_path": "__notebook__.ipynb",
   "output_path": "__notebook__.ipynb",
   "parameters": {},
   "start_time": "2023-01-10T19:02:38.559241",
   "version": "2.3.4"
  },
  "vscode": {
   "interpreter": {
    "hash": "66f9efbb523b243c6934d1b9b1c10e1d7eb7dc8926c2cd9d1f0fd429a67d5b68"
   }
  }
 },
 "nbformat": 4,
 "nbformat_minor": 5
}
